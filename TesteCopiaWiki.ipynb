{
  "nbformat": 4,
  "nbformat_minor": 0,
  "metadata": {
    "colab": {
      "provenance": [],
      "mount_file_id": "1S3MGz4gyfmkCF2_ttwbKrVSTEYiwXAkt",
      "authorship_tag": "ABX9TyM1aWBrVafTXeH1xwHpIfdV",
      "include_colab_link": true
    },
    "kernelspec": {
      "name": "python3",
      "display_name": "Python 3"
    },
    "language_info": {
      "name": "python"
    }
  },
  "cells": [
    {
      "cell_type": "markdown",
      "metadata": {
        "id": "view-in-github",
        "colab_type": "text"
      },
      "source": [
        "<a href=\"https://colab.research.google.com/github/Jessicalaine97/EstagioNvoip/blob/main/TesteCopiaWiki.ipynb\" target=\"_parent\"><img src=\"https://colab.research.google.com/assets/colab-badge.svg\" alt=\"Open In Colab\"/></a>"
      ]
    },
    {
      "cell_type": "code",
      "execution_count": null,
      "metadata": {
        "colab": {
          "base_uri": "https://localhost:8080/"
        },
        "id": "ZByeHQ7sLKl-",
        "outputId": "9e8702d1-3f80-4b0c-9bf0-57c80c3c35e9"
      },
      "outputs": [
        {
          "output_type": "stream",
          "name": "stdout",
          "text": [
            "Cloning into 'robocup-home.wiki'...\n",
            "remote: Enumerating objects: 644, done.\u001b[K\n",
            "remote: Total 644 (delta 0), reused 0 (delta 0), pack-reused 644\u001b[K\n",
            "Receiving objects: 100% (644/644), 532.82 KiB | 7.72 MiB/s, done.\n",
            "Resolving deltas: 100% (399/399), done.\n"
          ]
        }
      ],
      "source": [
        "!git clone https://github.com/RoBorregos/robocup-home.wiki.git"
      ]
    }
  ]
}